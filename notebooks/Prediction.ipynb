{
 "cells": [
  {
   "cell_type": "code",
   "execution_count": null,
   "metadata": {},
   "outputs": [],
   "source": [
    "%run -i 'project/prediction.py' --dataset=mfcc --config=config/config-colab.ini --logs=\"/content/logs/lstm_2020-11-02T23:01:42.675452.json/\""
   ]
  }
 ],
 "metadata": {
  "kernelspec": {
   "display_name": "music_clasification",
   "language": "python",
   "name": "music_clasification"
  },
  "language_info": {
   "codemirror_mode": {
    "name": "ipython",
    "version": 3
   },
   "file_extension": ".py",
   "mimetype": "text/x-python",
   "name": "python",
   "nbconvert_exporter": "python",
   "pygments_lexer": "ipython3",
   "version": "3.7.9"
  }
 },
 "nbformat": 4,
 "nbformat_minor": 4
}
