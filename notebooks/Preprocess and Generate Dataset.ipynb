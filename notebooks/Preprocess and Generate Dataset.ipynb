{
 "cells": [
  {
   "cell_type": "code",
   "execution_count": null,
   "metadata": {},
   "outputs": [],
   "source": [
    "%run -i 'project/preprocess.py' --preprocess=spec --config=project/config/config-gpu.ini"
   ]
  },
  {
   "cell_type": "code",
   "execution_count": null,
   "metadata": {},
   "outputs": [],
   "source": [
    "%run -i 'project/preprocess.py' --preprocess=mfcc --config=project/config/config-gpu.ini"
   ]
  },
  {
   "cell_type": "code",
   "execution_count": null,
   "metadata": {},
   "outputs": [],
   "source": [
    "%run -i 'project/dataset.py' --dataset=spec --config=project/config/config-gpu.ini"
   ]
  },
  {
   "cell_type": "code",
   "execution_count": null,
   "metadata": {},
   "outputs": [],
   "source": [
    "%run -i 'project/dataset.py' --dataset=mfcc --config=project/config/config-gpu.ini"
   ]
  }
 ],
 "metadata": {
  "kernelspec": {
   "display_name": "music_clasification",
   "language": "python",
   "name": "music_clasification"
  },
  "language_info": {
   "codemirror_mode": {
    "name": "ipython",
    "version": 3
   },
   "file_extension": ".py",
   "mimetype": "text/x-python",
   "name": "python",
   "nbconvert_exporter": "python",
   "pygments_lexer": "ipython3",
   "version": "3.7.9"
  }
 },
 "nbformat": 4,
 "nbformat_minor": 4
}
